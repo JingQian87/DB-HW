{
 "cells": [
  {
   "cell_type": "markdown",
   "metadata": {},
   "source": [
    "# Homework 3\n",
    "\n",
    "* Assigned: 10/18 Thursday\n",
    "\n",
    "* Due: 11/15 Thursday, 10:00 AM via. Instabase + Gradescope\n",
    "\n",
    "* Value: 3.75% of your grade\n",
    "\n",
    "In this assignment it's time to get real! You'll first flex your SQL muscles and perform analyses similar to HW2's by writing SQL and reflecting on the experience. You will then perform some normalization."
   ]
  },
  {
   "cell_type": "markdown",
   "metadata": {},
   "source": [
    "## Announcement\n",
    "\n",
    "Homework 3 has two parts. __Part 1__ requires you to __complete and submit via Instabase__ by the token provided. We have setup the environment for you. Part 2 is a written task requiring a hard copy to be submitted on Gradescope.\n",
    "\n",
    "__Please do not revise any existing block or variable without instruction.__ It may cause failure for running grading script, which will result in some grade deduction. Query quality and correctness will also be part of the grading rubric. We will grade mannually to allow some partial credits."
   ]
  },
  {
   "cell_type": "markdown",
   "metadata": {},
   "source": [
    "## Token Setup"
   ]
  },
  {
   "cell_type": "code",
   "execution_count": 36,
   "metadata": {},
   "outputs": [],
   "source": [
    "# Your columbia uni that is used in SSOL\n",
    "#\n",
    "# IMPORTANT:  make sure this is consistent with the uni/alias used as your @columbia.edu email in SSOL\n",
    "#\n",
    "UNI = \"jq2282\"\n",
    "\n",
    "# your instabase username (if you go to the instabase homepage, your username should be in the URL)\n",
    "USER = \"Jing\"\n",
    "\n",
    "# your repository name containing \n",
    "REPO = \"Databases4111-Homeworks\"\n"
   ]
  },
  {
   "cell_type": "markdown",
   "metadata": {},
   "source": [
    "## Database Connection"
   ]
  },
  {
   "cell_type": "markdown",
   "metadata": {},
   "source": [
    "Run following command to connect to database. You should see \"Connected to ...\" for successful connection."
   ]
  },
  {
   "cell_type": "code",
   "execution_count": 37,
   "metadata": {},
   "outputs": [
    {
     "name": "stdout",
     "output_type": "stream",
     "text": [
      "Connected to: ib://ewu/w4111-public/databases/w4111\n"
     ]
    }
   ],
   "source": [
    "# connect to db in public repo\n",
    "ib.connect_db('ib://ewu/w4111-public/databases/w4111')"
   ]
  },
  {
   "cell_type": "markdown",
   "metadata": {},
   "source": [
    "We are using a 1mil-tuple sample** of the iowa liquor sales data for this assignment, with column names and datatype (in format of [name] [datatype]) as:\n",
    "\n",
    "  - address char(256),\n",
    "  - bottle_volume_ml integer,\n",
    "  - category char(256),\n",
    "  - category_name char(256),\n",
    "  - city char(256),\n",
    "  - county char(256),\n",
    "  - county_number char(256),\n",
    "  - date date,\n",
    "  - im_desc char(256),\n",
    "  - invoice_line_no char(256),\n",
    "  - itemno integer,\n",
    "  - name char(256),\n",
    "  - pack integer,\n",
    "  - sale_bottles integer,\n",
    "  - sale_dollars double precision,\n",
    "  - sale_gallons double precision,\n",
    "  - sale_liters double precision,\n",
    "  - state_bottle_cost double precision,\n",
    "  - state_bottle_retail double precision,\n",
    "  - store integer,\n",
    "  - store_location char(256),\n",
    "  - store_location_address char(256),\n",
    "  - store_location_city char(256),\n",
    "  - store_location_zip char(256),\n",
    "  - vendor_name char(256),\n",
    "  - vendor_no integer,\n",
    "  - zipcode text\n",
    "  \n",
    "A description of column names can be found here: https://data.iowa.gov/Economy/Iowa-Liquor-Sales/m3tr-qhgy."
   ]
  },
  {
   "cell_type": "markdown",
   "metadata": {},
   "source": [
    "You may run this query to have some ideas on the schema you are dealing with:"
   ]
  },
  {
   "cell_type": "code",
   "execution_count": 38,
   "metadata": {},
   "outputs": [
    {
     "data": {
      "text/html": [
       "<div>\n",
       "<style scoped>\n",
       "    .dataframe tbody tr th:only-of-type {\n",
       "        vertical-align: middle;\n",
       "    }\n",
       "\n",
       "    .dataframe tbody tr th {\n",
       "        vertical-align: top;\n",
       "    }\n",
       "\n",
       "    .dataframe thead th {\n",
       "        text-align: right;\n",
       "    }\n",
       "</style>\n",
       "<table border=\"1\" class=\"dataframe\">\n",
       "  <thead>\n",
       "    <tr style=\"text-align: right;\">\n",
       "      <th></th>\n",
       "      <th>address</th>\n",
       "      <th>bottle_volume_ml</th>\n",
       "      <th>category</th>\n",
       "      <th>category_name</th>\n",
       "      <th>city</th>\n",
       "      <th>county</th>\n",
       "      <th>county_number</th>\n",
       "      <th>date</th>\n",
       "      <th>im_desc</th>\n",
       "      <th>invoice_line_no</th>\n",
       "      <th>...</th>\n",
       "      <th>state_bottle_cost</th>\n",
       "      <th>state_bottle_retail</th>\n",
       "      <th>store</th>\n",
       "      <th>store_location</th>\n",
       "      <th>store_location_address</th>\n",
       "      <th>store_location_city</th>\n",
       "      <th>store_location_zip</th>\n",
       "      <th>vendor_name</th>\n",
       "      <th>vendor_no</th>\n",
       "      <th>zipcode</th>\n",
       "    </tr>\n",
       "  </thead>\n",
       "  <tbody>\n",
       "    <tr>\n",
       "      <th>0</th>\n",
       "      <td>703 W PLEASANT ST                             ...</td>\n",
       "      <td>1750</td>\n",
       "      <td>1012200.0                                     ...</td>\n",
       "      <td>SCOTCH WHISKIES                               ...</td>\n",
       "      <td>KNOXVILLE                                     ...</td>\n",
       "      <td>Marion                                        ...</td>\n",
       "      <td>63.0                                          ...</td>\n",
       "      <td>2012-11-19</td>\n",
       "      <td>Old Smuggler Scotch Pet                       ...</td>\n",
       "      <td>S09069900013                                  ...</td>\n",
       "      <td>...</td>\n",
       "      <td>11.8300000000000001</td>\n",
       "      <td>17.75</td>\n",
       "      <td>3818</td>\n",
       "      <td>POINT (-93.105641 41.320746)                  ...</td>\n",
       "      <td>703 W PLEASANT ST                             ...</td>\n",
       "      <td>KNOXVILLE                                     ...</td>\n",
       "      <td>50138                                         ...</td>\n",
       "      <td>Shaw Ross International Importers LL          ...</td>\n",
       "      <td>460</td>\n",
       "      <td>50138</td>\n",
       "    </tr>\n",
       "  </tbody>\n",
       "</table>\n",
       "<p>1 rows × 27 columns</p>\n",
       "</div>"
      ],
      "text/plain": [
       "                                             address bottle_volume_ml  \\\n",
       "0  703 W PLEASANT ST                             ...             1750   \n",
       "\n",
       "                                            category  \\\n",
       "0  1012200.0                                     ...   \n",
       "\n",
       "                                       category_name  \\\n",
       "0  SCOTCH WHISKIES                               ...   \n",
       "\n",
       "                                                city  \\\n",
       "0  KNOXVILLE                                     ...   \n",
       "\n",
       "                                              county  \\\n",
       "0  Marion                                        ...   \n",
       "\n",
       "                                       county_number        date  \\\n",
       "0  63.0                                          ...  2012-11-19   \n",
       "\n",
       "                                             im_desc  \\\n",
       "0  Old Smuggler Scotch Pet                       ...   \n",
       "\n",
       "                                     invoice_line_no   ...    \\\n",
       "0  S09069900013                                  ...   ...     \n",
       "\n",
       "     state_bottle_cost state_bottle_retail store  \\\n",
       "0  11.8300000000000001               17.75  3818   \n",
       "\n",
       "                                      store_location  \\\n",
       "0  POINT (-93.105641 41.320746)                  ...   \n",
       "\n",
       "                              store_location_address  \\\n",
       "0  703 W PLEASANT ST                             ...   \n",
       "\n",
       "                                 store_location_city  \\\n",
       "0  KNOXVILLE                                     ...   \n",
       "\n",
       "                                  store_location_zip  \\\n",
       "0  50138                                         ...   \n",
       "\n",
       "                                         vendor_name vendor_no zipcode  \n",
       "0  Shaw Ross International Importers LL          ...       460   50138  \n",
       "\n",
       "[1 rows x 27 columns]"
      ]
     },
     "execution_count": 38,
     "metadata": {},
     "output_type": "execute_result"
    }
   ],
   "source": [
    "%%sql\n",
    "select * from iowa limit 1;"
   ]
  },
  {
   "cell_type": "markdown",
   "metadata": {},
   "source": [
    "__Disclaimer: this course does not condone drinking, we are using this dataset because it is a common format for a sales transaction log in a silghtly more accessible domain than typical bank transactions__."
   ]
  },
  {
   "cell_type": "markdown",
   "metadata": {},
   "source": [
    "## Part I: SQL, the sequel"
   ]
  },
  {
   "cell_type": "markdown",
   "metadata": {},
   "source": [
    "### Jupyter Notes: _Read these carefully_\n",
    "\n",
    "* You **may** create new IPython notebook cells to use for e.g. testing, debugging, exploring, etc.- this is encouraged in fact!- **just make sure that you run the final cell to submit your results**\n",
    "  * you can press shift+enter to execute to code in the cell that your cursor is in.\n",
    "* When you see `In [*]:` to the left of the cell you are executing, this means that the code / query is _running_. Please wait for the execution to complete\n",
    "    * **If the cell is hanging- i.e. running for too long: you can restart the kernel**\n",
    "    * To restart kernel using the menu bar: \"Kernel >> Restart >> Clear all outputs & restart\"), then re-execute cells from the top\n",
    "* _Have fun!_"
   ]
  },
  {
   "cell_type": "markdown",
   "metadata": {},
   "source": [
    "__Now, please write the SQL query for each of the following questions.__\n",
    "\n",
    "__Fill answers according to instruction in each question. Make sure to submit your query also (instruction given).__\n",
    "\n",
    "Note: Some queries will take a few minutes to run on your virtual machine. If your query is running for more than ~10 minutes, you either did something wrong, \n",
    "or you may need to create tables with your temp tables to run the query more efficiently. \n",
    "\n",
    "For example: If you use the results of a sub-query multiple times, it \n",
    "can help to use SELECT ... INTO ... then reference that table.\n"
   ]
  },
  {
   "cell_type": "markdown",
   "metadata": {},
   "source": [
    "### __(2 points) Q1.1: Which store had the most sales in terms of total records in the table?__"
   ]
  },
  {
   "cell_type": "code",
   "execution_count": 39,
   "metadata": {},
   "outputs": [
    {
     "data": {
      "text/html": [
       "<div>\n",
       "<style scoped>\n",
       "    .dataframe tbody tr th:only-of-type {\n",
       "        vertical-align: middle;\n",
       "    }\n",
       "\n",
       "    .dataframe tbody tr th {\n",
       "        vertical-align: top;\n",
       "    }\n",
       "\n",
       "    .dataframe thead th {\n",
       "        text-align: right;\n",
       "    }\n",
       "</style>\n",
       "<table border=\"1\" class=\"dataframe\">\n",
       "  <thead>\n",
       "    <tr style=\"text-align: right;\">\n",
       "      <th></th>\n",
       "      <th>store</th>\n",
       "      <th>cnt</th>\n",
       "    </tr>\n",
       "  </thead>\n",
       "  <tbody>\n",
       "    <tr>\n",
       "      <th>0</th>\n",
       "      <td>2633</td>\n",
       "      <td>8934</td>\n",
       "    </tr>\n",
       "  </tbody>\n",
       "</table>\n",
       "</div>"
      ],
      "text/plain": [
       "  store   cnt\n",
       "0  2633  8934"
      ]
     },
     "execution_count": 39,
     "metadata": {},
     "output_type": "execute_result"
    }
   ],
   "source": [
    "%%sql\n",
    "-- Complete your query here\n",
    "select store, count(*) as cnt\n",
    "from iowa\n",
    "group by store\n",
    "order by cnt desc\n",
    "limit 1;"
   ]
  },
  {
   "cell_type": "code",
   "execution_count": 40,
   "metadata": {},
   "outputs": [],
   "source": [
    "# Please replace None with the result store and record number here\n",
    "# submit query in string format\n",
    "q1 = {\n",
    "    'store': 2633,\n",
    "    'count': 8934,\n",
    "    'query': 'select store, count(*) as cnt from iowa group by store order by cnt desc limit 1;'\n",
    "}"
   ]
  },
  {
   "cell_type": "markdown",
   "metadata": {},
   "source": [
    "### __(2 points) Q1.2: At the store with the most total records (answer to Q1.1), what was the vendor number with most sale records? (The vendor that has the most records in the table?)__"
   ]
  },
  {
   "cell_type": "code",
   "execution_count": 41,
   "metadata": {},
   "outputs": [
    {
     "data": {
      "text/html": [
       "<div>\n",
       "<style scoped>\n",
       "    .dataframe tbody tr th:only-of-type {\n",
       "        vertical-align: middle;\n",
       "    }\n",
       "\n",
       "    .dataframe tbody tr th {\n",
       "        vertical-align: top;\n",
       "    }\n",
       "\n",
       "    .dataframe thead th {\n",
       "        text-align: right;\n",
       "    }\n",
       "</style>\n",
       "<table border=\"1\" class=\"dataframe\">\n",
       "  <thead>\n",
       "    <tr style=\"text-align: right;\">\n",
       "      <th></th>\n",
       "      <th>vendor_no</th>\n",
       "      <th>cnt</th>\n",
       "    </tr>\n",
       "  </thead>\n",
       "  <tbody>\n",
       "    <tr>\n",
       "      <th>0</th>\n",
       "      <td>260</td>\n",
       "      <td>1509</td>\n",
       "    </tr>\n",
       "  </tbody>\n",
       "</table>\n",
       "</div>"
      ],
      "text/plain": [
       "  vendor_no   cnt\n",
       "0       260  1509"
      ]
     },
     "execution_count": 41,
     "metadata": {},
     "output_type": "execute_result"
    }
   ],
   "source": [
    "%%sql\n",
    "-- Complete your query here\n",
    "select vendor_no, count(*) as cnt\n",
    "from iowa\n",
    "where store = 2633\n",
    "group by vendor_no\n",
    "order by cnt desc\n",
    "limit 1;"
   ]
  },
  {
   "cell_type": "code",
   "execution_count": 42,
   "metadata": {},
   "outputs": [],
   "source": [
    "# please replace None with the result vendor_no and according sum here\n",
    "# submit query in string format\n",
    "q2 = {\n",
    "    'vendor_no': 260,\n",
    "    'count': 1509,\n",
    "    'query': 'select vendor_no, count(*) as cnt from iowa where store = 2633 group by vendor_no order by cnt desc limit 1;'\n",
    "}"
   ]
  },
  {
   "cell_type": "markdown",
   "metadata": {},
   "source": [
    "### __(3 points) Q1.3: For each zipcode, compute the single most purchased category_name by total sale_bottles. __\n",
    "\n",
    "__Return the top 5 (zipcode, category_name) when sorted in descending order by the most purchased total sale_bottles.__"
   ]
  },
  {
   "cell_type": "code",
   "execution_count": 43,
   "metadata": {},
   "outputs": [
    {
     "data": {
      "text/html": [
       "<div>\n",
       "<style scoped>\n",
       "    .dataframe tbody tr th:only-of-type {\n",
       "        vertical-align: middle;\n",
       "    }\n",
       "\n",
       "    .dataframe tbody tr th {\n",
       "        vertical-align: top;\n",
       "    }\n",
       "\n",
       "    .dataframe thead th {\n",
       "        text-align: right;\n",
       "    }\n",
       "</style>\n",
       "<table border=\"1\" class=\"dataframe\">\n",
       "  <thead>\n",
       "    <tr style=\"text-align: right;\">\n",
       "      <th></th>\n",
       "      <th>zipcode</th>\n",
       "      <th>category_name</th>\n",
       "      <th>sale_bottles</th>\n",
       "    </tr>\n",
       "  </thead>\n",
       "  <tbody>\n",
       "    <tr>\n",
       "      <th>0</th>\n",
       "      <td>52402</td>\n",
       "      <td>VODKA 80 PROOF                                ...</td>\n",
       "      <td>2712</td>\n",
       "    </tr>\n",
       "    <tr>\n",
       "      <th>1</th>\n",
       "      <td>50266</td>\n",
       "      <td>CANADIAN WHISKIES                             ...</td>\n",
       "      <td>2400</td>\n",
       "    </tr>\n",
       "    <tr>\n",
       "      <th>2</th>\n",
       "      <td>52240</td>\n",
       "      <td>VODKA 80 PROOF                                ...</td>\n",
       "      <td>2310</td>\n",
       "    </tr>\n",
       "    <tr>\n",
       "      <th>3</th>\n",
       "      <td>50311</td>\n",
       "      <td>CANADIAN WHISKIES                             ...</td>\n",
       "      <td>2088</td>\n",
       "    </tr>\n",
       "    <tr>\n",
       "      <th>4</th>\n",
       "      <td>51503</td>\n",
       "      <td>VODKA 80 PROOF                                ...</td>\n",
       "      <td>1800</td>\n",
       "    </tr>\n",
       "  </tbody>\n",
       "</table>\n",
       "</div>"
      ],
      "text/plain": [
       "  zipcode                                      category_name sale_bottles\n",
       "0   52402  VODKA 80 PROOF                                ...         2712\n",
       "1   50266  CANADIAN WHISKIES                             ...         2400\n",
       "2   52240  VODKA 80 PROOF                                ...         2310\n",
       "3   50311  CANADIAN WHISKIES                             ...         2088\n",
       "4   51503  VODKA 80 PROOF                                ...         1800"
      ]
     },
     "execution_count": 43,
     "metadata": {},
     "output_type": "execute_result"
    }
   ],
   "source": [
    "%%sql\n",
    "-- Complete your query here\n",
    "select i1.zipcode, i1.category_name, i1.sale_bottles\n",
    "from iowa as i1\n",
    "join(\n",
    "    select max(sale_bottles) as msale, zipcode\n",
    "    from iowa\n",
    "    group by zipcode\n",
    ") as tmp\n",
    "on i1.zipcode = tmp.zipcode and i1.sale_bottles = tmp.msale\n",
    "order by i1.sale_bottles desc\n",
    "limit 5;"
   ]
  },
  {
   "cell_type": "code",
   "execution_count": 44,
   "metadata": {},
   "outputs": [],
   "source": [
    "# please replace None with the result accordingly here\n",
    "# submit query in string format\n",
    "q3 = {\n",
    "    1: {'zipcode': 52402, 'category_name': 'VODKA 80 PROOF ...', 'qty': 2712},\n",
    "    2: {'zipcode': 50266, 'category_name': 'CANADIAN WHISKIES ...', 'qty': 2400},\n",
    "    3: {'zipcode': 52240, 'category_name': 'VODKA 80 PROOF ...', 'qty': 2310},\n",
    "    4: {'zipcode': 50311, 'category_name': 'CANADIAN WHISKIES ...', 'qty': 2088},\n",
    "    5: {'zipcode': 51503, 'category_name': 'VODKA 80 PROOF ...', 'qty': 1800},\n",
    "    'query': 'select i1.zipcode, i1.category_name, i1.sale_bottles from iowa as i1 join( select max(sale_bottles) as msale, zipcode from iowa group by zipcode) as tmp on i1.zipcode = tmp.zipcode and i1.sale_bottles = tmp.msale order by i1.sale_bottles desc limit 5;'\n",
    "}"
   ]
  },
  {
   "cell_type": "markdown",
   "metadata": {},
   "source": [
    "### __(3 points) Q1.4: This problem has two steps, you only need to return the value from second step.__\n",
    "\n",
    "__Compute the set of all liquors with the characters \"tequila\" (in lowercase) in its description (`im_desc`). The attribute `itemno` is the one that can serve as a unique identifier for a specific liquor.__\n",
    "\n",
    "__Return the count of all distinct value of zipcode for all liquor stores that sold at least two of every tequila as defined in the previous sentence.__\n",
    "\n",
    "(Optional: It is possible to rewrite the query in a form that can execute quite fast, but it will require you to create some temporary tables and/or experiment with alternate forms to express the problem. If you find the solution, feel free to submit it!)"
   ]
  },
  {
   "cell_type": "code",
   "execution_count": 45,
   "metadata": {},
   "outputs": [
    {
     "data": {
      "text/html": [
       "<div>\n",
       "<style scoped>\n",
       "    .dataframe tbody tr th:only-of-type {\n",
       "        vertical-align: middle;\n",
       "    }\n",
       "\n",
       "    .dataframe tbody tr th {\n",
       "        vertical-align: top;\n",
       "    }\n",
       "\n",
       "    .dataframe thead th {\n",
       "        text-align: right;\n",
       "    }\n",
       "</style>\n",
       "<table border=\"1\" class=\"dataframe\">\n",
       "  <thead>\n",
       "    <tr style=\"text-align: right;\">\n",
       "      <th></th>\n",
       "      <th>count</th>\n",
       "    </tr>\n",
       "  </thead>\n",
       "  <tbody>\n",
       "    <tr>\n",
       "      <th>0</th>\n",
       "      <td>116</td>\n",
       "    </tr>\n",
       "  </tbody>\n",
       "</table>\n",
       "</div>"
      ],
      "text/plain": [
       "  count\n",
       "0   116"
      ]
     },
     "execution_count": 45,
     "metadata": {},
     "output_type": "execute_result"
    }
   ],
   "source": [
    "%%sql\n",
    "-- Complete your query here\n",
    "select count(distinct i1.zipcode)\n",
    "from iowa as i1 \n",
    "join(\n",
    "select tmp1.store\n",
    "from (\n",
    "select store, count(distinct itemno) as cnt\n",
    "from iowa\n",
    "where im_desc like '%tequila%'\n",
    "group by store) as tmp1\n",
    "where tmp1.cnt >= 2) as tmp2\n",
    "on i1.store = tmp2.store;"
   ]
  },
  {
   "cell_type": "code",
   "execution_count": 46,
   "metadata": {},
   "outputs": [],
   "source": [
    "# please replace None with the according count here\n",
    "# submit query in string format\n",
    "q4 = {\n",
    "    'count': 116,\n",
    "    'query': 'select count(distinct i1.zipcode) from iowa as i1 join( select tmp1.store from ( select store, count(distinct itemno) as cnt from iowa where im_desc like \\'%tequila%\\' group by store) as tmp1 where tmp1.cnt >= 2) as tmp2 on i1.store = tmp2.store;'\n",
    "}"
   ]
  },
  {
   "cell_type": "markdown",
   "metadata": {},
   "source": [
    "### __(3 points) Q1.5:  __What is the item number (`itemno`) of the liquor with the highest state bottle cost, (as defined below), across all of iowa?\n",
    "\n",
    "Let a liquor's _bottle cost_ for a given store $S_i$ be the state bottle retail cost per milliliter (mL) based on `state_bottle_retail` (this is the amount the store paid for each bottle of liquor ordered), averaged across all sales at store $S_i$. Note: The `bottle_volume_ml` field provides the volume of each bottle ordered in mL. Ignore the quantity of bottles sold in a sale.\n",
    "\n",
    "Let a liquor's overall _state bottle cost_ be the average of all the per store costs, averaged across all stores in iowa.\n",
    "\n",
    "For example: If a single store sells an item (say item no. 100), and has two coresponding records: 10 750 mL bottles of \\$10 state bottle cost each (total cost: \\$100), and later 1 bottle of a 1000 mL bottle of \\$20 (total cost: \\$20), the average is (10/750 + 20/1000)/2 = 0.01666...)."
   ]
  },
  {
   "cell_type": "code",
   "execution_count": 47,
   "metadata": {},
   "outputs": [
    {
     "data": {
      "text/html": [
       "<div>\n",
       "<style scoped>\n",
       "    .dataframe tbody tr th:only-of-type {\n",
       "        vertical-align: middle;\n",
       "    }\n",
       "\n",
       "    .dataframe tbody tr th {\n",
       "        vertical-align: top;\n",
       "    }\n",
       "\n",
       "    .dataframe thead th {\n",
       "        text-align: right;\n",
       "    }\n",
       "</style>\n",
       "<table border=\"1\" class=\"dataframe\">\n",
       "  <thead>\n",
       "    <tr style=\"text-align: right;\">\n",
       "      <th></th>\n",
       "      <th>itemno</th>\n",
       "    </tr>\n",
       "  </thead>\n",
       "  <tbody>\n",
       "    <tr>\n",
       "      <th>0</th>\n",
       "      <td>927368</td>\n",
       "    </tr>\n",
       "  </tbody>\n",
       "</table>\n",
       "</div>"
      ],
      "text/plain": [
       "   itemno\n",
       "0  927368"
      ]
     },
     "execution_count": 47,
     "metadata": {},
     "output_type": "execute_result"
    }
   ],
   "source": [
    "%%sql\n",
    "-- Complete your query here\n",
    "select itemno\n",
    "from \n",
    "(select itemno, store, avg(state_bottle_retail/bottle_volume_ml) as mean\n",
    "from iowa\n",
    "group by itemno, store) as tmp1\n",
    "group by itemno\n",
    "order by avg(tmp1.mean) desc\n",
    "limit 1;"
   ]
  },
  {
   "cell_type": "code",
   "execution_count": 48,
   "metadata": {},
   "outputs": [],
   "source": [
    "# please replace None with the item number here\n",
    "# submit query in string format\n",
    "q5 = {\n",
    "    'itemno': 927368,\n",
    "    'query': 'select itemno from (select itemno, store, avg(state_bottle_retail/bottle_volume_ml) as mean from iowa group by itemno, store) as tmp1 group by itemno order by avg(tmp1.mean) desc limit 1;'\n",
    "}"
   ]
  },
  {
   "cell_type": "markdown",
   "metadata": {},
   "source": [
    "### __(3 points) Q1.6: Write a short paragraph about the main differences between writing Python code and writing SQL. List one pro and one con for each approach. __\n",
    "\n",
    "You may wish to compare the solutions from HW2 and HW3 that compute the same result."
   ]
  },
  {
   "cell_type": "code",
   "execution_count": 49,
   "metadata": {},
   "outputs": [],
   "source": [
    "q6 = {\n",
    "    # put Python's pros and cons here\n",
    "    # please write in the quotes\n",
    "    'python_pros': \"Python is more fexible. Easy to do partial query or do queries in loops.\",\n",
    "    'python_cons': \"Too many libraries and functions. May make mistakes without notice.\",\n",
    "    'sql_pros': \"Very uniform and structured. Easy to start with and understand.\",\n",
    "    'sql_cons': \"Limited functions. Sometimes it needs a very long code to do the queries.\"\n",
    "}"
   ]
  },
  {
   "cell_type": "markdown",
   "metadata": {},
   "source": [
    "## Part I Submission\n",
    "\n",
    "### Create your submission file¶\n",
    "\n",
    "Run the following cell to create a results file for your homework\n",
    "\n",
    "DO NOT MODIFY THE FOLLOWING CELL!!"
   ]
  },
  {
   "cell_type": "code",
   "execution_count": 50,
   "metadata": {},
   "outputs": [
    {
     "name": "stdout",
     "output_type": "stream",
     "text": [
      "Result file created at: 2018-11-14 04:53:34.204092\n",
      "\n",
      "Check your results: http://instabase.com/Jing/Databases4111-Homeworks/fs/Instabase%20Drive/HW3/results\n"
     ]
    }
   ],
   "source": [
    "import datetime\n",
    "import json\n",
    "\n",
    "script_path = '{0}/{1}/fs/Instabase%20Drive'.format(USER, REPO)\n",
    "\n",
    "with ib.open('results'.format(script_path), \"w\") as f:\n",
    "    result = dict(\n",
    "        q1=q1,\n",
    "        q2=q2,\n",
    "        q3=q3,\n",
    "        q4=q4,\n",
    "        q5=q5,\n",
    "        q6=q6,\n",
    "        uni=UNI,\n",
    "        user=USER\n",
    "    )\n",
    "    f.write(json.dumps(result))\n",
    "    print \"Result file created at: {0}\".format(datetime.datetime.now())\n",
    "  \n",
    "    print\n",
    "    print \"Check your results: http://instabase.com/{0}/HW3/results\".format(script_path)"
   ]
  },
  {
   "cell_type": "markdown",
   "metadata": {},
   "source": [
    "Finally, Submit your __HW3 folder including the results file__ at the following URL:\n",
    "    \n",
    "https://www.instabase.com/apps/file-submission/cmd/submit/23eaec3c-154a-4898-848f-bf73b220582d\n"
   ]
  },
  {
   "cell_type": "markdown",
   "metadata": {},
   "source": [
    "## Part II, Normalization\n",
    "\n",
    "See Github page for more details. Submit __hard copy__ for Part 2 as instructed __before due__."
   ]
  },
  {
   "cell_type": "markdown",
   "metadata": {},
   "source": [
    "_**Remarks: Dataset sourced from https://data.iowa.gov/Economy/Iowa-Liquor-Sales/m3tr-qhgy. 1mil tuples extracted and preprocessed to remove double quotation marks and apostrophes._"
   ]
  }
 ],
 "metadata": {
  "kernelspec": {
   "display_name": "Python 2",
   "language": "python",
   "name": "python2"
  },
  "language_info": {
   "codemirror_mode": {
    "name": "ipython",
    "version": 2
   },
   "file_extension": ".py",
   "mimetype": "text/x-python",
   "name": "python",
   "nbconvert_exporter": "python",
   "pygments_lexer": "ipython2",
   "version": "2.7.14"
  }
 },
 "nbformat": 4,
 "nbformat_minor": 1
}
