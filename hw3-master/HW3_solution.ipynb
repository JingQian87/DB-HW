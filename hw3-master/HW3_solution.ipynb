{
 "cells": [
  {
   "cell_type": "code",
   "execution_count": 2,
   "metadata": {
    "scrolled": true
   },
   "outputs": [
    {
     "name": "stdout",
     "output_type": "stream",
     "text": [
      "Connected to: ib://ewu/w4111-public/databases/w4111\n"
     ]
    }
   ],
   "source": [
    "ib.connect_db('ib://ewu/w4111-public/databases/w4111')"
   ]
  },
  {
   "cell_type": "markdown",
   "metadata": {},
   "source": [
    "## NOTE: Execute Nested Query (if an answer has multiple ones) to Output Result"
   ]
  },
  {
   "cell_type": "markdown",
   "metadata": {},
   "source": [
    "### **Q1.1** Which store had the most sales in terms of total records in the table?"
   ]
  },
  {
   "cell_type": "code",
   "execution_count": 60,
   "metadata": {},
   "outputs": [
    {
     "data": {
      "text/html": [
       "<div>\n",
       "<style scoped>\n",
       "    .dataframe tbody tr th:only-of-type {\n",
       "        vertical-align: middle;\n",
       "    }\n",
       "\n",
       "    .dataframe tbody tr th {\n",
       "        vertical-align: top;\n",
       "    }\n",
       "\n",
       "    .dataframe thead th {\n",
       "        text-align: right;\n",
       "    }\n",
       "</style>\n",
       "<table border=\"1\" class=\"dataframe\">\n",
       "  <thead>\n",
       "    <tr style=\"text-align: right;\">\n",
       "      <th></th>\n",
       "      <th>store</th>\n",
       "      <th>count</th>\n",
       "    </tr>\n",
       "  </thead>\n",
       "  <tbody>\n",
       "    <tr>\n",
       "      <th>0</th>\n",
       "      <td>2633</td>\n",
       "      <td>8934</td>\n",
       "    </tr>\n",
       "  </tbody>\n",
       "</table>\n",
       "</div>"
      ],
      "text/plain": [
       "  store count\n",
       "0  2633  8934"
      ]
     },
     "execution_count": 60,
     "metadata": {},
     "output_type": "execute_result"
    }
   ],
   "source": [
    "%%sql\n",
    "\n",
    "select store, count(1)\n",
    "from iowa\n",
    "group by store\n",
    "order by count(1) desc\n",
    "limit 1;"
   ]
  },
  {
   "cell_type": "markdown",
   "metadata": {},
   "source": [
    "### Answer\n",
    "\n",
    "store 2633\n",
    "\n",
    "count 8934"
   ]
  },
  {
   "cell_type": "markdown",
   "metadata": {},
   "source": [
    "### **Q1.2** At the store with the most total records (answer to Q1.1), what was the vendor number with most sale records? (The vendor that has the most records in the table?)"
   ]
  },
  {
   "cell_type": "code",
   "execution_count": 3,
   "metadata": {},
   "outputs": [
    {
     "data": {
      "text/html": [
       "<div>\n",
       "<style scoped>\n",
       "    .dataframe tbody tr th:only-of-type {\n",
       "        vertical-align: middle;\n",
       "    }\n",
       "\n",
       "    .dataframe tbody tr th {\n",
       "        vertical-align: top;\n",
       "    }\n",
       "\n",
       "    .dataframe thead th {\n",
       "        text-align: right;\n",
       "    }\n",
       "</style>\n",
       "<table border=\"1\" class=\"dataframe\">\n",
       "  <thead>\n",
       "    <tr style=\"text-align: right;\">\n",
       "      <th></th>\n",
       "      <th>vendor_no</th>\n",
       "      <th>count</th>\n",
       "    </tr>\n",
       "  </thead>\n",
       "  <tbody>\n",
       "    <tr>\n",
       "      <th>0</th>\n",
       "      <td>260</td>\n",
       "      <td>1509</td>\n",
       "    </tr>\n",
       "  </tbody>\n",
       "</table>\n",
       "</div>"
      ],
      "text/plain": [
       "  vendor_no count\n",
       "0       260  1509"
      ]
     },
     "execution_count": 3,
     "metadata": {},
     "output_type": "execute_result"
    }
   ],
   "source": [
    "%%sql\n",
    "\n",
    "select vendor_no, count(1)\n",
    "from iowa\n",
    "where store = 2633\n",
    "group by vendor_no\n",
    "order by count(1) desc\n",
    "limit 1;\n"
   ]
  },
  {
   "cell_type": "markdown",
   "metadata": {},
   "source": [
    "### Answer\n",
    "\n",
    "vendor_no 260\n",
    "\n",
    "count 1509"
   ]
  },
  {
   "cell_type": "markdown",
   "metadata": {},
   "source": [
    "### **Q1.3**: For each zipcode, compute the single most purchased category_name by total `sale_bottles`.\n",
    "\n",
    "a. We first need to get have a table with aggregated sale_bottles groupped by zipcode & category_name"
   ]
  },
  {
   "cell_type": "code",
   "execution_count": 62,
   "metadata": {},
   "outputs": [
    {
     "data": {
      "text/plain": [
       "{u'status': u'OK'}"
      ]
     },
     "execution_count": 62,
     "metadata": {},
     "output_type": "execute_result"
    }
   ],
   "source": [
    "%%sql\n",
    "-- step 1\n",
    "SELECT zipcode, category_name, sum(sale_bottles) sum_qty INTO TEMP zip_cate_sum\n",
    "FROM iowa\n",
    "GROUP BY zipcode, category_name;"
   ]
  },
  {
   "cell_type": "markdown",
   "metadata": {},
   "source": [
    "b. With `zip_cate_sum` table, we can get the max `sum_qty` in a given zipcode with other groupby"
   ]
  },
  {
   "cell_type": "code",
   "execution_count": 63,
   "metadata": {},
   "outputs": [
    {
     "data": {
      "text/plain": [
       "{u'status': u'OK'}"
      ]
     },
     "execution_count": 63,
     "metadata": {},
     "output_type": "execute_result"
    }
   ],
   "source": [
    "%%sql\n",
    "-- step 1\n",
    "SELECT zipcode, category_name, sum(sale_bottles) sum_qty INTO TEMP zip_cate_sum\n",
    "FROM iowa\n",
    "GROUP BY zipcode, category_name;\n",
    "\n",
    "-- step 2\n",
    "SELECT zcs.zipcode, max(zcs.sum_qty) max_qty INTO TEMP zip_cate_sum_max\n",
    "FROM zip_cate_sum zcs\n",
    "GROUP BY zcs.zipcode;"
   ]
  },
  {
   "cell_type": "markdown",
   "metadata": {},
   "source": [
    "c. use max bottle_qty sum and zipcode information, we can join above two tables to get category_name,\n",
    "and use `ORDER BY` and `LIMIT` for expected output"
   ]
  },
  {
   "cell_type": "code",
   "execution_count": 64,
   "metadata": {},
   "outputs": [
    {
     "data": {
      "text/plain": [
       "{u'status': u'OK'}"
      ]
     },
     "execution_count": 64,
     "metadata": {},
     "output_type": "execute_result"
    }
   ],
   "source": [
    "%%sql\n",
    "-- step 1\n",
    "SELECT zipcode, category_name, sum(sale_bottles) sum_qty INTO TEMP zip_cate_sum\n",
    "FROM iowa\n",
    "GROUP BY zipcode, category_name;\n",
    "\n",
    "-- step 2\n",
    "SELECT zcs.zipcode, max(zcs.sum_qty) max_qty INTO TEMP zip_cate_sum_max\n",
    "FROM zip_cate_sum zcs\n",
    "GROUP BY zcs.zipcode;\n",
    "\n",
    "-- step 3\n",
    "SELECT c.zipcode, c.category_name, c.sum_qty\n",
    "FROM zip_cate_sum c, zip_cate_sum_max b\n",
    "WHERE b.zipcode = c.zipcode AND b.max_qty = c.sum_qty\n",
    "ORDER BY c.sum_qty desc\n",
    "LIMIT 5;"
   ]
  },
  {
   "cell_type": "markdown",
   "metadata": {},
   "source": [
    "### Run Nested Query to Project Final Result on Q 1.3"
   ]
  },
  {
   "cell_type": "code",
   "execution_count": 65,
   "metadata": {
    "scrolled": true
   },
   "outputs": [
    {
     "data": {
      "text/html": [
       "<div>\n",
       "<style scoped>\n",
       "    .dataframe tbody tr th:only-of-type {\n",
       "        vertical-align: middle;\n",
       "    }\n",
       "\n",
       "    .dataframe tbody tr th {\n",
       "        vertical-align: top;\n",
       "    }\n",
       "\n",
       "    .dataframe thead th {\n",
       "        text-align: right;\n",
       "    }\n",
       "</style>\n",
       "<table border=\"1\" class=\"dataframe\">\n",
       "  <thead>\n",
       "    <tr style=\"text-align: right;\">\n",
       "      <th></th>\n",
       "      <th>zipcode</th>\n",
       "      <th>category_name</th>\n",
       "      <th>qty</th>\n",
       "    </tr>\n",
       "  </thead>\n",
       "  <tbody>\n",
       "    <tr>\n",
       "      <th>0</th>\n",
       "      <td>52402</td>\n",
       "      <td>VODKA 80 PROOF                                ...</td>\n",
       "      <td>64368</td>\n",
       "    </tr>\n",
       "    <tr>\n",
       "      <th>1</th>\n",
       "      <td>52240</td>\n",
       "      <td>VODKA 80 PROOF                                ...</td>\n",
       "      <td>55597</td>\n",
       "    </tr>\n",
       "    <tr>\n",
       "      <th>2</th>\n",
       "      <td>50314</td>\n",
       "      <td>VODKA 80 PROOF                                ...</td>\n",
       "      <td>49893</td>\n",
       "    </tr>\n",
       "    <tr>\n",
       "      <th>3</th>\n",
       "      <td>50320</td>\n",
       "      <td>VODKA 80 PROOF                                ...</td>\n",
       "      <td>44763</td>\n",
       "    </tr>\n",
       "    <tr>\n",
       "      <th>4</th>\n",
       "      <td>51501</td>\n",
       "      <td>VODKA 80 PROOF                                ...</td>\n",
       "      <td>40812</td>\n",
       "    </tr>\n",
       "  </tbody>\n",
       "</table>\n",
       "</div>"
      ],
      "text/plain": [
       "  zipcode                                      category_name    qty\n",
       "0   52402  VODKA 80 PROOF                                ...  64368\n",
       "1   52240  VODKA 80 PROOF                                ...  55597\n",
       "2   50314  VODKA 80 PROOF                                ...  49893\n",
       "3   50320  VODKA 80 PROOF                                ...  44763\n",
       "4   51501  VODKA 80 PROOF                                ...  40812"
      ]
     },
     "execution_count": 65,
     "metadata": {},
     "output_type": "execute_result"
    }
   ],
   "source": [
    "%%sql\n",
    "select c.zipcode, c.category_name, c.qty\n",
    "from (\n",
    "    select a.zipcode, max(a.qty) qty\n",
    "    from (\n",
    "        select zipcode, category_name, sum(sale_bottles) qty\n",
    "        from iowa\n",
    "        group by zipcode, category_name\n",
    "    ) a\n",
    "    group by a.zipcode\n",
    ") b, \n",
    "(\n",
    "    select zipcode, category_name, sum(sale_bottles) qty\n",
    "    from iowa\n",
    "    group by zipcode, category_name\n",
    ") c\n",
    "where b.zipcode = c.zipcode and b.qty = c.qty\n",
    "order by c.qty desc\n",
    "limit 5;\n"
   ]
  },
  {
   "cell_type": "markdown",
   "metadata": {},
   "source": [
    "### Answer\n",
    "\n",
    "(zipcode, category_name, qty)\n",
    "\n",
    "0   52402\tVODKA 80 PROOF ...\t64368\n",
    "\n",
    "1\t52240\tVODKA 80 PROOF ...\t55597\n",
    "\n",
    "2\t50314\tVODKA 80 PROOF ...\t49893\n",
    "\n",
    "3\t50320\tVODKA 80 PROOF ...\t44763\n",
    "\n",
    "4\t51501\tVODKA 80 PROOF ...\t40812"
   ]
  },
  {
   "cell_type": "markdown",
   "metadata": {},
   "source": [
    "### **Q1.4**: This problem has two steps, you only need to return the value from second step.\n",
    "\n",
    "__Compute the set of all liquors with the characters \"tequila\" (in lowercase) in its description (`im_desc`). The attribute `itemno` is the one that can serve as a unique identifier for a specific liquor.__\n",
    "\n",
    "__Return the count of all distinct value of zipcode for all liquor stores that sold at least two of every tequila as defined in the previous sentence.__\n",
    "\n",
    "a. Total count of # tequila can be made into one table"
   ]
  },
  {
   "cell_type": "code",
   "execution_count": 4,
   "metadata": {},
   "outputs": [
    {
     "data": {
      "text/plain": [
       "{u'status': u'OK'}"
      ]
     },
     "execution_count": 4,
     "metadata": {},
     "output_type": "execute_result"
    }
   ],
   "source": [
    "%%sql \n",
    "-- step 1\n",
    "SELECT COUNT(DISTINCT(itemno)) INTO TEMP tequila_item_ctn\n",
    "FROM iowa\n",
    "WHERE im_desc LIKE '%tequila%';"
   ]
  },
  {
   "cell_type": "markdown",
   "metadata": {},
   "source": [
    "b. with selection of tequila on description, and `group by` store and item, \n",
    "we can aggregate total sale_bottles, so that this `sum(sale_bottles)` is the __total sold bottles of one type of tequila at one store__"
   ]
  },
  {
   "cell_type": "code",
   "execution_count": 5,
   "metadata": {},
   "outputs": [
    {
     "name": "stdout",
     "output_type": "stream",
     "text": [
      "Error: ERROR: relation \"store_tequlia_bottle_sum\" already exists\n"
     ]
    }
   ],
   "source": [
    "%%sql \n",
    "-- step 1\n",
    "SELECT COUNT(DISTINCT(itemno)) item_cnt INTO TEMP tequila_item_ctn\n",
    "FROM iowa\n",
    "WHERE im_desc LIKE '%tequila%';\n",
    "\n",
    "-- step 2\n",
    "SELECT store, itemno, sum(sale_bottles) qty_sum INTO store_tequlia_bottle_sum\n",
    "FROM iowa\n",
    "WHERE im_desc LIKE '%tequila%'\n",
    "GROUP BY store, itemno;"
   ]
  },
  {
   "cell_type": "markdown",
   "metadata": {},
   "source": [
    "c. We can select from `store_tequila_bottle_sum` table with qty_sum >= 2, to find out whether the sum bottle qty of a given type of tequila in a given is qualified.\n",
    "\n",
    "After this SELECTION, we can apply a `GROUP BY` on store to get the total qualfied number of tequila of a given store."
   ]
  },
  {
   "cell_type": "code",
   "execution_count": 6,
   "metadata": {},
   "outputs": [
    {
     "data": {
      "text/plain": [
       "{u'status': u'OK'}"
      ]
     },
     "execution_count": 6,
     "metadata": {},
     "output_type": "execute_result"
    }
   ],
   "source": [
    "%%sql \n",
    "-- step 1\n",
    "SELECT COUNT(DISTINCT(itemno)) item_cnt INTO TEMP tequila_item_ctn\n",
    "FROM iowa\n",
    "WHERE im_desc LIKE '%tequila%';\n",
    "\n",
    "-- step 2\n",
    "SELECT store, itemno, sum(sale_bottles) qty_sum INTO TEMP store_tequlia_bottle_sum\n",
    "FROM iowa\n",
    "WHERE im_desc LIKE '%tequila%'\n",
    "GROUP BY store, itemno;\n",
    "\n",
    "-- step 3\n",
    "SELECT stbs.store, count(*) n_qualified_tequila INTO TEMP store_qualified_tequila_item\n",
    "FROM store_tequlia_bottle_sum stbs\n",
    "WHERE stbs.qty_sum >= 2\n",
    "GROUP BY stbs.store;"
   ]
  },
  {
   "cell_type": "markdown",
   "metadata": {},
   "source": [
    "d. Join `store_qualified_tequila_item` and `tequila_item_ctn` to find out qualified store"
   ]
  },
  {
   "cell_type": "code",
   "execution_count": 71,
   "metadata": {},
   "outputs": [
    {
     "data": {
      "text/plain": [
       "{u'status': u'OK'}"
      ]
     },
     "execution_count": 71,
     "metadata": {},
     "output_type": "execute_result"
    }
   ],
   "source": [
    "%%sql \n",
    "-- step 1\n",
    "SELECT COUNT(DISTINCT(itemno)) item_cnt INTO TEMP tequila_item_ctn\n",
    "FROM iowa\n",
    "WHERE im_desc LIKE '%tequila%';\n",
    "\n",
    "-- step 2\n",
    "SELECT store, itemno, sum(sale_bottles) qty_sum INTO TEMP store_tequlia_bottle_sum\n",
    "FROM iowa\n",
    "WHERE im_desc LIKE '%tequila%'\n",
    "GROUP BY store, itemno;\n",
    "\n",
    "-- step 3\n",
    "SELECT stbs.store, count(*) n_qualified_tequila INTO TEMP store_qualified_tequila_item\n",
    "FROM store_tequlia_bottle_sum stbs\n",
    "WHERE stbs.qty_sum >= 2\n",
    "GROUP BY stbs.store;\n",
    "\n",
    "-- step 4\n",
    "SELECT sqti.store INTO TEMP qualified_store\n",
    "FROM store_qualified_tequila_item sqti, tequila_item_ctn tic\n",
    "WHERE sqti.n_qualified_tequila = tic.item_cnt;"
   ]
  },
  {
   "cell_type": "markdown",
   "metadata": {},
   "source": [
    "e. finally, join `qualified_store` on `iowa` to count distinct zipcode"
   ]
  },
  {
   "cell_type": "code",
   "execution_count": 72,
   "metadata": {},
   "outputs": [
    {
     "data": {
      "text/plain": [
       "{u'status': u'OK'}"
      ]
     },
     "execution_count": 72,
     "metadata": {},
     "output_type": "execute_result"
    }
   ],
   "source": [
    "%%sql \n",
    "-- step 1\n",
    "SELECT COUNT(DISTINCT(itemno)) item_cnt INTO TEMP tequila_item_ctn\n",
    "FROM iowa\n",
    "WHERE im_desc LIKE '%tequila%';\n",
    "\n",
    "-- step 2\n",
    "SELECT store, itemno, sum(sale_bottles) qty_sum INTO TEMP store_tequlia_bottle_sum\n",
    "FROM iowa\n",
    "WHERE im_desc LIKE '%tequila%'\n",
    "GROUP BY store, itemno;\n",
    "\n",
    "-- step 3\n",
    "SELECT stbs.store, count(*) n_qualified_tequila INTO TEMP store_qualified_tequila_item\n",
    "FROM store_tequlia_bottle_sum stbs\n",
    "WHERE stbs.qty_sum >= 2\n",
    "GROUP BY stbs.store;\n",
    "\n",
    "-- step 4\n",
    "SELECT sqti.store INTO TEMP qualified_store\n",
    "FROM store_qualified_tequila_item sqti, tequila_item_ctn tic\n",
    "WHERE sqti.n_qualified_tequila = tic.item_cnt;\n",
    "\n",
    "-- step 5\n",
    "SELECT count(distinct(i.zipcode))\n",
    "FROM qualified_store qs, iowa i\n",
    "WHERE qs.store = i.store;"
   ]
  },
  {
   "cell_type": "markdown",
   "metadata": {},
   "source": [
    "### Run Nested Query to Project Final Result on Q 1.4"
   ]
  },
  {
   "cell_type": "code",
   "execution_count": 7,
   "metadata": {
    "scrolled": true
   },
   "outputs": [
    {
     "data": {
      "text/html": [
       "<div>\n",
       "<style scoped>\n",
       "    .dataframe tbody tr th:only-of-type {\n",
       "        vertical-align: middle;\n",
       "    }\n",
       "\n",
       "    .dataframe tbody tr th {\n",
       "        vertical-align: top;\n",
       "    }\n",
       "\n",
       "    .dataframe thead th {\n",
       "        text-align: right;\n",
       "    }\n",
       "</style>\n",
       "<table border=\"1\" class=\"dataframe\">\n",
       "  <thead>\n",
       "    <tr style=\"text-align: right;\">\n",
       "      <th></th>\n",
       "      <th>count</th>\n",
       "    </tr>\n",
       "  </thead>\n",
       "  <tbody>\n",
       "    <tr>\n",
       "      <th>0</th>\n",
       "      <td>110</td>\n",
       "    </tr>\n",
       "  </tbody>\n",
       "</table>\n",
       "</div>"
      ],
      "text/plain": [
       "  count\n",
       "0   110"
      ]
     },
     "execution_count": 7,
     "metadata": {},
     "output_type": "execute_result"
    }
   ],
   "source": [
    "%%sql\n",
    "-- zip of all stores that have sold at least 2 of each tequila, having tequila in description\n",
    "\n",
    "select count(distinct(e.zipcode))\n",
    "from \n",
    "(\n",
    "    select b.store, b.ctn\n",
    "    from (\n",
    "        select a.store, count(1) ctn\n",
    "        from (\n",
    "            select store, itemno, sum(sale_bottles) ctn\n",
    "            from iowa\n",
    "            where im_desc like '%tequila%'\n",
    "            group by store, itemno\n",
    "        ) a\n",
    "        where a.ctn >= 2\n",
    "        group by a.store\n",
    "    ) b, \n",
    "    (\n",
    "        select count(distinct(itemno)) ctn\n",
    "        from iowa\n",
    "        where im_desc like '%tequila%'\n",
    "    ) c\n",
    "    where b.ctn = c.ctn\n",
    ") d\n",
    "join iowa e\n",
    "on e.store = d.store;"
   ]
  },
  {
   "cell_type": "markdown",
   "metadata": {},
   "source": [
    "### Answer:\n",
    "\n",
    "count: 110"
   ]
  },
  {
   "cell_type": "markdown",
   "metadata": {},
   "source": [
    "### **Q1.5:** What is the item attribute of the liquor with the highest state bottle cost, (as defined below), across all of iowa?\n",
    "\n",
    "a. `GROUP BY` store and item to compute average state_bottle_retail per bottle_volume_ml for an item within store"
   ]
  },
  {
   "cell_type": "code",
   "execution_count": 79,
   "metadata": {},
   "outputs": [
    {
     "data": {
      "text/plain": [
       "{u'status': u'OK'}"
      ]
     },
     "execution_count": 79,
     "metadata": {},
     "output_type": "execute_result"
    }
   ],
   "source": [
    "%%sql\n",
    "-- step 1\n",
    "SELECT store, itemno, avg(state_bottle_retail/bottle_volume_ml) as cost INTO TEMP storewise_cost\n",
    "FROM iowa\n",
    "WHERE bottle_volume_ml > 0\n",
    "GROUP BY store, itemno;"
   ]
  },
  {
   "cell_type": "markdown",
   "metadata": {},
   "source": [
    "b. average across store for final result"
   ]
  },
  {
   "cell_type": "code",
   "execution_count": 80,
   "metadata": {},
   "outputs": [
    {
     "data": {
      "text/plain": [
       "{u'status': u'OK'}"
      ]
     },
     "execution_count": 80,
     "metadata": {},
     "output_type": "execute_result"
    }
   ],
   "source": [
    "%%sql\n",
    "-- step 1\n",
    "SELECT store, itemno, avg(state_bottle_retail/bottle_volume_ml) as cost INTO TEMP storewise_cost\n",
    "FROM iowa\n",
    "WHERE bottle_volume_ml > 0\n",
    "GROUP BY store, itemno;\n",
    "\n",
    "-- step 2\n",
    "SELECT s.itemno, avg(s.cost) overall_cost\n",
    "FROM storewise_cost s\n",
    "GROUP BY itemno\n",
    "ORDER BY avg(s.cost) DESC\n",
    "LIMIT 1;"
   ]
  },
  {
   "cell_type": "markdown",
   "metadata": {},
   "source": [
    "### Run Nested Query to Project Final Result on Q 1.5"
   ]
  },
  {
   "cell_type": "code",
   "execution_count": 82,
   "metadata": {},
   "outputs": [
    {
     "data": {
      "text/html": [
       "<div>\n",
       "<style scoped>\n",
       "    .dataframe tbody tr th:only-of-type {\n",
       "        vertical-align: middle;\n",
       "    }\n",
       "\n",
       "    .dataframe tbody tr th {\n",
       "        vertical-align: top;\n",
       "    }\n",
       "\n",
       "    .dataframe thead th {\n",
       "        text-align: right;\n",
       "    }\n",
       "</style>\n",
       "<table border=\"1\" class=\"dataframe\">\n",
       "  <thead>\n",
       "    <tr style=\"text-align: right;\">\n",
       "      <th></th>\n",
       "      <th>itemno</th>\n",
       "      <th>overall_cost</th>\n",
       "    </tr>\n",
       "  </thead>\n",
       "  <tbody>\n",
       "    <tr>\n",
       "      <th>0</th>\n",
       "      <td>927368</td>\n",
       "      <td>11.5999999999999996</td>\n",
       "    </tr>\n",
       "  </tbody>\n",
       "</table>\n",
       "</div>"
      ],
      "text/plain": [
       "   itemno         overall_cost\n",
       "0  927368  11.5999999999999996"
      ]
     },
     "execution_count": 82,
     "metadata": {},
     "output_type": "execute_result"
    }
   ],
   "source": [
    "%%sql\n",
    "-- has highest state btl cost\n",
    "\n",
    "select itemno, avg(per_store.cost) overall_cost\n",
    "from (\n",
    "    select store, itemno, avg(state_bottle_retail/bottle_volume_ml) as cost\n",
    "    from iowa\n",
    "    where bottle_volume_ml > 0\n",
    "    group by store, itemno\n",
    ") per_store\n",
    "group by itemno\n",
    "order by avg(per_store.cost) desc\n",
    "limit 1;"
   ]
  },
  {
   "cell_type": "markdown",
   "metadata": {},
   "source": [
    "### Answer\n",
    "\n",
    "itemno: 927368"
   ]
  },
  {
   "cell_type": "markdown",
   "metadata": {},
   "source": [
    "### Q1.6 (Answer not Limited to those)\n",
    "`Python Pros:`\n",
    "\n",
    "Python can perform more complicated logic on data, for example we can implement algorithms in an imperative \n",
    "programming language such as Python but not in SQL.\n",
    "\n",
    "With python, we can achieve complex data visualizations over web applications, which cannot be done through SQL.\n",
    "\n",
    "`Python Cons:`\n",
    "\n",
    "Python syntax on data manipulate is obscure sometimes.\n",
    "\n",
    "Python data manipulate is hard to recover and rollback.\n",
    "\n",
    "\n",
    "`SQL Pros:`\n",
    "\n",
    "SQL is specialized to data transformations.\n",
    "\n",
    "SQL is safer and more efficient because DBMS knows how to analyze it.\n",
    "\n",
    "SQL provides ACID properties for transactions in database.\n",
    "\n",
    "`SQL Cons`:\n",
    "\n",
    "Require cross-language data pipeline for brining SQL analysis into product."
   ]
  }
 ],
 "metadata": {
  "anaconda-cloud": {},
  "kernelspec": {
   "display_name": "Python 2",
   "language": "python",
   "name": "python2"
  },
  "language_info": {
   "codemirror_mode": {
    "name": "ipython",
    "version": 2
   },
   "file_extension": ".py",
   "mimetype": "text/x-python",
   "name": "python",
   "nbconvert_exporter": "python",
   "pygments_lexer": "ipython2",
   "version": "2.7.14"
  }
 },
 "nbformat": 4,
 "nbformat_minor": 1
}
